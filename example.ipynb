{
 "cells": [
  {
   "cell_type": "code",
   "execution_count": 1,
   "id": "cc0e914c",
   "metadata": {},
   "outputs": [
    {
     "name": "stdout",
     "output_type": "stream",
     "text": [
      "adsd\n"
     ]
    }
   ],
   "source": [
    "print(\"adsd\")"
   ]
  },
  {
   "cell_type": "code",
   "execution_count": 1,
   "id": "544a3a51",
   "metadata": {},
   "outputs": [
    {
     "name": "stdout",
     "output_type": "stream",
     "text": [
      "adsd\n"
     ]
    }
   ],
   "source": [
    "print(\"adsd\")"
   ]
  },
  {
   "cell_type": "code",
   "execution_count": 3,
   "id": "683f1df5",
   "metadata": {},
   "outputs": [
    {
     "name": "stdout",
     "output_type": "stream",
     "text": [
      "Sana da Hello \n"
     ]
    }
   ],
   "source": [
    "print(\"Sana da Hello \")"
   ]
  },
  {
   "cell_type": "code",
   "execution_count": 4,
   "id": "d0899cdc",
   "metadata": {},
   "outputs": [
    {
     "name": "stdout",
     "output_type": "stream",
     "text": [
      "sena\n"
     ]
    }
   ],
   "source": [
    "print(\"sena\")"
   ]
  },
  {
   "cell_type": "code",
   "execution_count": 1,
   "id": "ffdc844e",
   "metadata": {},
   "outputs": [
    {
     "name": "stdout",
     "output_type": "stream",
     "text": [
      "Hello Nur\n"
     ]
    }
   ],
   "source": [
    "print(\"Hello Nur\")"
   ]
  },
  {
   "cell_type": "code",
   "execution_count": 2,
   "id": "2d6dfc85",
   "metadata": {},
   "outputs": [
    {
     "name": "stdout",
     "output_type": "stream",
     "text": [
      "Nasılsınız\n"
     ]
    }
   ],
   "source": [
    "print(\"Nasılsınız\")"
   ]
  },
  {
   "cell_type": "code",
   "execution_count": null,
   "id": "3342c414",
   "metadata": {},
   "outputs": [],
   "source": []
  }
 ],
 "metadata": {
  "kernelspec": {
   "display_name": "Python 3 (ipykernel)",
   "language": "python",
   "name": "python3"
  },
  "language_info": {
   "codemirror_mode": {
    "name": "ipython",
    "version": 3
   },
   "file_extension": ".py",
   "mimetype": "text/x-python",
   "name": "python",
   "nbconvert_exporter": "python",
   "pygments_lexer": "ipython3",
   "version": "3.9.7"
  }
 },
 "nbformat": 4,
 "nbformat_minor": 5
}
